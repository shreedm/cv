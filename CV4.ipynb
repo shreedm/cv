{
  "nbformat": 4,
  "nbformat_minor": 0,
  "metadata": {
    "colab": {
      "provenance": []
    },
    "kernelspec": {
      "name": "python3",
      "display_name": "Python 3"
    },
    "language_info": {
      "name": "python"
    }
  },
  "cells": [
    {
      "cell_type": "code",
      "execution_count": null,
      "metadata": {
        "colab": {
          "base_uri": "https://localhost:8080/",
          "height": 259
        },
        "id": "eJTeed_SrS--",
        "outputId": "5a3d95d3-0d81-4f05-a127-3c63f275e6c8"
      },
      "outputs": [
        {
          "output_type": "display_data",
          "data": {
            "text/plain": [
              "<PIL.Image.Image image mode=L size=225x225>"
            ],
            "image/png": "[encoded data removed]"
          },
          "metadata": {}
        },
        {
          "output_type": "stream",
          "name": "stdout",
          "text": [
            "(225, 225)\n"
          ]
        }
      ],
      "source": [
        "import numpy as np\n",
        "import cv2\n",
        "from google.colab.patches import cv2_imshow\n",
        "import matplotlib.pyplot as plt\n",
        "image = cv2.imread('download1.png', cv2.IMREAD_GRAYSCALE)\n",
        "cv2_imshow(image)\n",
        "print(image.shape)"
      ]
    },
    {
      "cell_type": "code",
      "execution_count": null,
      "metadata": {
        "id": "f89fcb9f"
      },
      "outputs": [],
      "source": [
        "def get_4_direction(prev_point, current_point):\n",
        "    x_diff = current_point[0] - prev_point[0]\n",
        "    y_diff = current_point[1] - prev_point[1]\n",
        "\n",
        "    if x_diff > 0:\n",
        "        return 0  # Positive x-direction\n",
        "    elif y_diff > 0:\n",
        "        return 1  # Positive y-direction\n",
        "    elif x_diff < 0:\n",
        "        return 2  # Negative x-direction\n",
        "    elif y_diff < 0:\n",
        "        return 3  # Negative y-direction\n",
        "    else:\n",
        "        return -1  # No movement\n",
        "\n",
        "def generate_4_direction_chain(image_path):\n",
        "    # Read the image\n",
        "    image = cv2.imread(image_path)\n",
        "\n",
        "    # Convert the image to grayscale\n",
        "    gray_image = cv2.cvtColor(image, cv2.COLOR_BGR2GRAY)\n",
        "\n",
        "    # Threshold the image to obtain a binary image (adjust the threshold as needed)\n",
        "    _, binary_image = cv2.threshold(gray_image, 127, 255, cv2.THRESH_BINARY)\n",
        "\n",
        "    # Find contours in the binary image\n",
        "    contours, _ = cv2.findContours(binary_image, cv2.RETR_EXTERNAL, cv2.CHAIN_APPROX_SIMPLE)\n",
        "\n",
        "    # Assuming the largest contour represents the object of interest\n",
        "    largest_contour = max(contours, key=cv2.contourArea)\n",
        "\n",
        "    # Draw the contour on a copy of the original image\n",
        "    result_image = image.copy()\n",
        "    cv2.drawContours(result_image, [largest_contour], -1, (0, 255, 0), 2)\n",
        "\n",
        "    # Save the result image\n",
        "    cv2.imwrite('result_img_4d.png', result_image)\n",
        "\n",
        "    # Extract chain code from the largest contour using the restricted movement function\n",
        "    chain_code = []\n",
        "    prev_point = largest_contour[0][0]\n",
        "    for point in largest_contour[1:]:\n",
        "        current_point = point[0]\n",
        "        direction = get_4_direction(prev_point, current_point)\n",
        "        if direction != -1:  # Ignore points with no movement\n",
        "            chain_code.append(direction)\n",
        "        prev_point = current_point\n",
        "\n",
        "    return (chain_code,largest_contour)"
      ]
    },
    {
      "cell_type": "code",
      "source": [],
      "metadata": {
        "id": "Dc7wTHfeD1Tr"
      },
      "execution_count": null,
      "outputs": []
    },
    {
      "cell_type": "code",
      "execution_count": null,
      "metadata": {
        "id": "05ffe11a"
      },
      "outputs": [],
      "source": [
        "def get_8_direction(prev_point, current_point):\n",
        "    x_diff = current_point[0] - prev_point[0]\n",
        "    y_diff = current_point[1] - prev_point[1]\n",
        "\n",
        "    if x_diff > 0:\n",
        "        if y_diff > 0:\n",
        "            return 1#######  # Diagonal movement: Positive x, Positive y\n",
        "        elif y_diff < 0:\n",
        "            return 7  # Diagonal movement: Positive x, Negative y (Anticlockwise)\n",
        "        else:\n",
        "            return 0########  # Horizontal movement: Positive x, No change in y\n",
        "    elif x_diff < 0:\n",
        "        if y_diff > 0:\n",
        "            return 3#######  # Diagonal movement: Negative x, Positive y (Anticlockwise)\n",
        "        elif y_diff < 0:\n",
        "            return 5#######  # Diagonal movement: Negative x, Negative y (Anticlockwise)\n",
        "        else:\n",
        "            return 4########  # Horizontal movement: Negative x, No change in y\n",
        "    else:\n",
        "        if y_diff > 0:\n",
        "            return 2#######  # Vertical movement: No change in x, Positive y\n",
        "        elif y_diff < 0:\n",
        "            return 6#######  # Vertical movement: No change in x, Negative y (Anticlockwise)\n",
        "        else:\n",
        "            return -1  # No movement\n",
        "\n",
        "\n",
        "def generate_8_direction_chain(image_path):\n",
        "    # Read the image\n",
        "    image = cv2.imread(image_path)\n",
        "\n",
        "    # Convert the image to grayscale\n",
        "    gray_image = cv2.cvtColor(image, cv2.COLOR_BGR2GRAY)\n",
        "\n",
        "    # Threshold the image to obtain a binary image (adjust the threshold as needed)\n",
        "    _, binary_image = cv2.threshold(gray_image, 127, 255, cv2.THRESH_BINARY)\n",
        "\n",
        "    # Find contours in the binary image\n",
        "    contours, _ = cv2.findContours(binary_image, cv2.RETR_EXTERNAL, cv2.CHAIN_APPROX_SIMPLE)\n",
        "\n",
        "    # Assuming the largest contour represents the object of interest\n",
        "    largest_contour = max(contours, key=cv2.contourArea)\n",
        "\n",
        "    # Draw the contour on a copy of the original image\n",
        "    result_image = image.copy()\n",
        "    cv2.drawContours(result_image, [largest_contour], -1, (0, 255, 0), 2)\n",
        "\n",
        "    # Save the result image\n",
        "    cv2.imwrite('result_img_8d.png', result_image)\n",
        "\n",
        "    # Extract chain code from the largest contour using the restricted movement function\n",
        "    chain_code = []\n",
        "    prev_point = largest_contour[0][0]\n",
        "    for point in largest_contour[1:]:\n",
        "        current_point = point[0]\n",
        "        direction = get_8_direction(prev_point, current_point)\n",
        "        if direction != -1:  # Ignore points with no movement\n",
        "            chain_code.append(direction)\n",
        "        prev_point = current_point\n",
        "\n",
        "    return (chain_code,largest_contour)"
      ]
    },
    {
      "cell_type": "code",
      "source": [
        "# Generate the 4-direction chain code for edge detection\n",
        "(chain_4d,contour) = (generate_4_direction_chain(image_path))\n",
        "'''np.uint8'''"
      ],
      "metadata": {
        "colab": {
          "base_uri": "https://localhost:8080/",
          "height": 315
        },
        "id": "1HaIvgo6D8Uc",
        "outputId": "4fd07e44-a23c-48b7-cd7f-ca1e5292017f"
      },
      "execution_count": null,
      "outputs": [
        {
          "output_type": "error",
          "ename": "error",
          "evalue": "OpenCV(4.8.0) /io/opencv/modules/imgproc/src/color.cpp:182: error: (-215:Assertion failed) !_src.empty() in function 'cvtColor'\n",
          "traceback": [
            "\u001b[0;31m---------------------------------------------------------------------------\u001b[0m",
            "\u001b[0;31merror\u001b[0m                                     Traceback (most recent call last)",
            "\u001b[0;32m<ipython-input-27-304ad66cd4d5>\u001b[0m in \u001b[0;36m<cell line: 2>\u001b[0;34m()\u001b[0m\n\u001b[1;32m      1\u001b[0m \u001b[0;31m# Generate the 4-direction chain code for edge detection\u001b[0m\u001b[0;34m\u001b[0m\u001b[0;34m\u001b[0m\u001b[0m\n\u001b[0;32m----> 2\u001b[0;31m \u001b[0;34m(\u001b[0m\u001b[0mchain_4d\u001b[0m\u001b[0;34m,\u001b[0m\u001b[0mcontour\u001b[0m\u001b[0;34m)\u001b[0m \u001b[0;34m=\u001b[0m \u001b[0;34m(\u001b[0m\u001b[0mgenerate_4_direction_chain\u001b[0m\u001b[0;34m(\u001b[0m\u001b[0mimage_path\u001b[0m\u001b[0;34m)\u001b[0m\u001b[0;34m)\u001b[0m\u001b[0;34m\u001b[0m\u001b[0;34m\u001b[0m\u001b[0m\n\u001b[0m\u001b[1;32m      3\u001b[0m \u001b[0;34m'''np.uint8'''\u001b[0m\u001b[0;34m\u001b[0m\u001b[0;34m\u001b[0m\u001b[0m\n",
            "\u001b[0;32m<ipython-input-24-ba11e420be82>\u001b[0m in \u001b[0;36mgenerate_4_direction_chain\u001b[0;34m(image_path)\u001b[0m\n\u001b[1;32m     19\u001b[0m \u001b[0;34m\u001b[0m\u001b[0m\n\u001b[1;32m     20\u001b[0m     \u001b[0;31m# Convert the image to grayscale\u001b[0m\u001b[0;34m\u001b[0m\u001b[0;34m\u001b[0m\u001b[0m\n\u001b[0;32m---> 21\u001b[0;31m     \u001b[0mgray_image\u001b[0m \u001b[0;34m=\u001b[0m \u001b[0mcv2\u001b[0m\u001b[0;34m.\u001b[0m\u001b[0mcvtColor\u001b[0m\u001b[0;34m(\u001b[0m\u001b[0mimage\u001b[0m\u001b[0;34m,\u001b[0m \u001b[0mcv2\u001b[0m\u001b[0;34m.\u001b[0m\u001b[0mCOLOR_BGR2GRAY\u001b[0m\u001b[0;34m)\u001b[0m\u001b[0;34m\u001b[0m\u001b[0;34m\u001b[0m\u001b[0m\n\u001b[0m\u001b[1;32m     22\u001b[0m \u001b[0;34m\u001b[0m\u001b[0m\n\u001b[1;32m     23\u001b[0m     \u001b[0;31m# Threshold the image to obtain a binary image (adjust the threshold as needed)\u001b[0m\u001b[0;34m\u001b[0m\u001b[0;34m\u001b[0m\u001b[0m\n",
            "\u001b[0;31merror\u001b[0m: OpenCV(4.8.0) /io/opencv/modules/imgproc/src/color.cpp:182: error: (-215:Assertion failed) !_src.empty() in function 'cvtColor'\n"
          ]
        }
      ]
    },
    {
      "cell_type": "code",
      "source": [
        "print(np.uint8(chain_4d))"
      ],
      "metadata": {
        "colab": {
          "base_uri": "https://localhost:8080/"
        },
        "id": "RhBEvQ_dEAJD",
        "outputId": "1f86a5d0-2e28-420f-8eef-14f66ac674c1"
      },
      "execution_count": null,
      "outputs": [
        {
          "output_type": "stream",
          "name": "stdout",
          "text": [
            "[1 0 3]\n"
          ]
        }
      ]
    },
    {
      "cell_type": "code",
      "source": [
        "#print(contour[0])\n",
        "conter=[]\n",
        "for i in range(len(contour)):\n",
        "    conter.append(contour[i])\n",
        "\n",
        "conter = [tuple(point[0]) for point in contour]\n",
        "print(conter)"
      ],
      "metadata": {
        "colab": {
          "base_uri": "https://localhost:8080/"
        },
        "id": "9Kt9BojiEGF7",
        "outputId": "9c843363-3ee4-4c7c-c34e-9790163a180a"
      },
      "execution_count": null,
      "outputs": [
        {
          "output_type": "stream",
          "name": "stdout",
          "text": [
            "[(0, 0), (0, 254), (196, 254), (196, 0)]\n"
          ]
        }
      ]
    },
    {
      "cell_type": "code",
      "source": [
        "# Generate the 8-direction chain code for edge detection\n",
        "chain_8d,contour_ = (generate_8_direction_chain(image_path))\n",
        "print(chain_8d)"
      ],
      "metadata": {
        "colab": {
          "base_uri": "https://localhost:8080/",
          "height": 315
        },
        "id": "EgQs-OVrEZ4T",
        "outputId": "c28fb244-a70d-4f5f-c5ac-cf258030b71a"
      },
      "execution_count": null,
      "outputs": [
        {
          "output_type": "error",
          "ename": "error",
          "evalue": "OpenCV(4.8.0) /io/opencv/modules/imgproc/src/color.cpp:182: error: (-215:Assertion failed) !_src.empty() in function 'cvtColor'\n",
          "traceback": [
            "\u001b[0;31m---------------------------------------------------------------------------\u001b[0m",
            "\u001b[0;31merror\u001b[0m                                     Traceback (most recent call last)",
            "\u001b[0;32m<ipython-input-30-7e193c6d5a02>\u001b[0m in \u001b[0;36m<cell line: 2>\u001b[0;34m()\u001b[0m\n\u001b[1;32m      1\u001b[0m \u001b[0;31m# Generate the 8-direction chain code for edge detection\u001b[0m\u001b[0;34m\u001b[0m\u001b[0;34m\u001b[0m\u001b[0m\n\u001b[0;32m----> 2\u001b[0;31m \u001b[0mchain_8d\u001b[0m\u001b[0;34m,\u001b[0m\u001b[0mcontour_\u001b[0m \u001b[0;34m=\u001b[0m \u001b[0;34m(\u001b[0m\u001b[0mgenerate_8_direction_chain\u001b[0m\u001b[0;34m(\u001b[0m\u001b[0mimage_path\u001b[0m\u001b[0;34m)\u001b[0m\u001b[0;34m)\u001b[0m\u001b[0;34m\u001b[0m\u001b[0;34m\u001b[0m\u001b[0m\n\u001b[0m\u001b[1;32m      3\u001b[0m \u001b[0mprint\u001b[0m\u001b[0;34m(\u001b[0m\u001b[0mchain_8d\u001b[0m\u001b[0;34m)\u001b[0m\u001b[0;34m\u001b[0m\u001b[0;34m\u001b[0m\u001b[0m\n",
            "\u001b[0;32m<ipython-input-26-46f9903f6bd5>\u001b[0m in \u001b[0;36mgenerate_8_direction_chain\u001b[0;34m(image_path)\u001b[0m\n\u001b[1;32m     31\u001b[0m \u001b[0;34m\u001b[0m\u001b[0m\n\u001b[1;32m     32\u001b[0m     \u001b[0;31m# Convert the image to grayscale\u001b[0m\u001b[0;34m\u001b[0m\u001b[0;34m\u001b[0m\u001b[0m\n\u001b[0;32m---> 33\u001b[0;31m     \u001b[0mgray_image\u001b[0m \u001b[0;34m=\u001b[0m \u001b[0mcv2\u001b[0m\u001b[0;34m.\u001b[0m\u001b[0mcvtColor\u001b[0m\u001b[0;34m(\u001b[0m\u001b[0mimage\u001b[0m\u001b[0;34m,\u001b[0m \u001b[0mcv2\u001b[0m\u001b[0;34m.\u001b[0m\u001b[0mCOLOR_BGR2GRAY\u001b[0m\u001b[0;34m)\u001b[0m\u001b[0;34m\u001b[0m\u001b[0;34m\u001b[0m\u001b[0m\n\u001b[0m\u001b[1;32m     34\u001b[0m \u001b[0;34m\u001b[0m\u001b[0m\n\u001b[1;32m     35\u001b[0m     \u001b[0;31m# Threshold the image to obtain a binary image (adjust the threshold as needed)\u001b[0m\u001b[0;34m\u001b[0m\u001b[0;34m\u001b[0m\u001b[0m\n",
            "\u001b[0;31merror\u001b[0m: OpenCV(4.8.0) /io/opencv/modules/imgproc/src/color.cpp:182: error: (-215:Assertion failed) !_src.empty() in function 'cvtColor'\n"
          ]
        }
      ]
    },
    {
      "cell_type": "code",
      "source": [
        "print(np.uint8(chain_8d))"
      ],
      "metadata": {
        "colab": {
          "base_uri": "https://localhost:8080/"
        },
        "id": "1l_Br4w3EeQ-",
        "outputId": "5052f839-bea7-4e4d-cff7-d7bfbf23e752"
      },
      "execution_count": null,
      "outputs": [
        {
          "output_type": "stream",
          "name": "stdout",
          "text": [
            "[2 0 6]\n"
          ]
        }
      ]
    },
    {
      "cell_type": "code",
      "source": [
        "a=cv2.imread('result_img_4d.png');\n",
        "plt.imshow(a);\n",
        "plt.axis('off');"
      ],
      "metadata": {
        "colab": {
          "base_uri": "https://localhost:8080/",
          "height": 406
        },
        "id": "uQRQvc5zEicW",
        "outputId": "358ef5ac-82f4-4b5a-bb6b-c3c5cbffe394"
      },
      "execution_count": null,
      "outputs": [
        {
          "output_type": "display_data",
          "data": {
            "text/plain": [
              "<Figure size 640x480 with 1 Axes>"
            ],
            "image/png": "[encoded data removed]"
          },
          "metadata": {}
        }
      ]
    },
    {
      "cell_type": "code",
      "source": [
        "b=cv2.imread('result_img_8d.png');\n",
        "plt.imshow(b);\n",
        "plt.axis('off');"
      ],
      "metadata": {
        "colab": {
          "base_uri": "https://localhost:8080/",
          "height": 406
        },
        "id": "gMLASyygEu7b",
        "outputId": "238ae784-1f00-454f-db6e-9655d338c664"
      },
      "execution_count": null,
      "outputs": [
        {
          "output_type": "display_data",
          "data": {
            "text/plain": [
              "<Figure size 640x480 with 1 Axes>"
            ],
            "image/png": "[encoded data removed]"
          },
          "metadata": {}
        }
      ]
    }
  ]
}